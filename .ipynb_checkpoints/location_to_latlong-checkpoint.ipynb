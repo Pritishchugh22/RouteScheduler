{
 "cells": [
  {
   "cell_type": "code",
   "execution_count": 4,
   "id": "e1d2a979-6037-4229-9958-1ffa534c3ba6",
   "metadata": {},
   "outputs": [
    {
     "data": {
      "text/html": [
       "<div>\n",
       "<style scoped>\n",
       "    .dataframe tbody tr th:only-of-type {\n",
       "        vertical-align: middle;\n",
       "    }\n",
       "\n",
       "    .dataframe tbody tr th {\n",
       "        vertical-align: top;\n",
       "    }\n",
       "\n",
       "    .dataframe thead th {\n",
       "        text-align: right;\n",
       "    }\n",
       "</style>\n",
       "<table border=\"1\" class=\"dataframe\">\n",
       "  <thead>\n",
       "    <tr style=\"text-align: right;\">\n",
       "      <th></th>\n",
       "      <th>City</th>\n",
       "    </tr>\n",
       "  </thead>\n",
       "  <tbody>\n",
       "    <tr>\n",
       "      <th>0</th>\n",
       "      <td>sector 70 Mohali</td>\n",
       "    </tr>\n",
       "    <tr>\n",
       "      <th>1</th>\n",
       "      <td>sector 80 Mohali</td>\n",
       "    </tr>\n",
       "    <tr>\n",
       "      <th>2</th>\n",
       "      <td>sector 72 Mohali</td>\n",
       "    </tr>\n",
       "    <tr>\n",
       "      <th>3</th>\n",
       "      <td>sector 75 Mohali</td>\n",
       "    </tr>\n",
       "    <tr>\n",
       "      <th>4</th>\n",
       "      <td>sector 40 Mohali</td>\n",
       "    </tr>\n",
       "  </tbody>\n",
       "</table>\n",
       "</div>"
      ],
      "text/plain": [
       "               City\n",
       "0  sector 70 Mohali\n",
       "1  sector 80 Mohali\n",
       "2  sector 72 Mohali\n",
       "3  sector 75 Mohali\n",
       "4  sector 40 Mohali"
      ]
     },
     "execution_count": 4,
     "metadata": {},
     "output_type": "execute_result"
    }
   ],
   "source": [
    "import pandas as pd \n",
    "import numpy as np\n",
    "\n",
    "location = [\"sector 70 Mohali\",\"sector 80 Mohali\", \"sector 72 Mohali\",\"sector 75 Mohali\",\"sector 40 Mohali\"]\n",
    "    \n",
    "# Define a dictionary containing  data \n",
    "data = {'City':location} \n",
    "    \n",
    "# Convert the dictionary into DataFrame \n",
    "df = pd.DataFrame(data) \n",
    "    \n",
    "# Observe the result \n",
    "df"
   ]
  },
  {
   "cell_type": "code",
   "execution_count": 5,
   "id": "ffbac8de-7b25-46bc-be5b-b9fbf163b070",
   "metadata": {},
   "outputs": [],
   "source": [
    "from geopy.exc import GeocoderTimedOut\n",
    "from geopy.geocoders import Nominatim\n",
    "\n",
    "# declare an empty list to store\n",
    "# latitude and longitude of values\n",
    "# of city column\n",
    "longitude = []\n",
    "latitude = []\n",
    "\n",
    "# function to find the coordinate\n",
    "# of a given city\n",
    "def findGeocode(city):\n",
    "\t\n",
    "\t# try and catch is used to overcome\n",
    "\t# the exception thrown by geolocator\n",
    "\t# using geocodertimedout\n",
    "\ttry:\n",
    "\t\t\n",
    "\t\t# Specify the user_agent as your\n",
    "\t\t# app name it should not be none\n",
    "\t\tgeolocator = Nominatim(user_agent=\"your_app_name\")\n",
    "\t\t\n",
    "\t\treturn geolocator.geocode(city)\n",
    "\t\n",
    "\texcept GeocoderTimedOut:\n",
    "\t\t\n",
    "\t\treturn findGeocode(city)\t\n",
    "\n",
    "# each value from city column\n",
    "# will be fetched and sent to\n",
    "# function find_geocode\n",
    "for i in (df[\"City\"]):\n",
    "\t\n",
    "\tif findGeocode(i) != None:\n",
    "\t\t\n",
    "\t\tloc = findGeocode(i)\n",
    "\t\t\n",
    "\t\t# coordinates returned from\n",
    "\t\t# function is stored into\n",
    "\t\t# two separate list\n",
    "\t\tlatitude.append(loc.latitude)\n",
    "\t\tlongitude.append(loc.longitude)\n",
    "\t\n",
    "\t# if coordinate for a city not\n",
    "\t# found, insert \"NaN\" indicating\n",
    "\t# missing value\n",
    "\telse:\n",
    "\t\tlatitude.append(np.nan)\n",
    "\t\tlongitude.append(np.nan)\n"
   ]
  },
  {
   "cell_type": "code",
   "execution_count": 7,
   "id": "58efd69c-70ea-41e5-a9a8-757cb33fc123",
   "metadata": {},
   "outputs": [
    {
     "name": "stdout",
     "output_type": "stream",
     "text": [
      "[76.7148685, 76.7180228, 76.7045259, 76.69264812263654, 76.7266945]\n",
      "[30.6975638, 30.6722089, 30.7097775, 30.702468, 30.6700854]\n"
     ]
    },
    {
     "data": {
      "text/html": [
       "<div>\n",
       "<style scoped>\n",
       "    .dataframe tbody tr th:only-of-type {\n",
       "        vertical-align: middle;\n",
       "    }\n",
       "\n",
       "    .dataframe tbody tr th {\n",
       "        vertical-align: top;\n",
       "    }\n",
       "\n",
       "    .dataframe thead th {\n",
       "        text-align: right;\n",
       "    }\n",
       "</style>\n",
       "<table border=\"1\" class=\"dataframe\">\n",
       "  <thead>\n",
       "    <tr style=\"text-align: right;\">\n",
       "      <th></th>\n",
       "      <th>City</th>\n",
       "      <th>Longitude</th>\n",
       "      <th>Latitude</th>\n",
       "    </tr>\n",
       "  </thead>\n",
       "  <tbody>\n",
       "    <tr>\n",
       "      <th>0</th>\n",
       "      <td>sector 70 Mohali</td>\n",
       "      <td>76.714868</td>\n",
       "      <td>30.697564</td>\n",
       "    </tr>\n",
       "    <tr>\n",
       "      <th>1</th>\n",
       "      <td>sector 80 Mohali</td>\n",
       "      <td>76.718023</td>\n",
       "      <td>30.672209</td>\n",
       "    </tr>\n",
       "    <tr>\n",
       "      <th>2</th>\n",
       "      <td>sector 72 Mohali</td>\n",
       "      <td>76.704526</td>\n",
       "      <td>30.709778</td>\n",
       "    </tr>\n",
       "    <tr>\n",
       "      <th>3</th>\n",
       "      <td>sector 75 Mohali</td>\n",
       "      <td>76.692648</td>\n",
       "      <td>30.702468</td>\n",
       "    </tr>\n",
       "    <tr>\n",
       "      <th>4</th>\n",
       "      <td>sector 40 Mohali</td>\n",
       "      <td>76.726694</td>\n",
       "      <td>30.670085</td>\n",
       "    </tr>\n",
       "  </tbody>\n",
       "</table>\n",
       "</div>"
      ],
      "text/plain": [
       "               City  Longitude   Latitude\n",
       "0  sector 70 Mohali  76.714868  30.697564\n",
       "1  sector 80 Mohali  76.718023  30.672209\n",
       "2  sector 72 Mohali  76.704526  30.709778\n",
       "3  sector 75 Mohali  76.692648  30.702468\n",
       "4  sector 40 Mohali  76.726694  30.670085"
      ]
     },
     "execution_count": 7,
     "metadata": {},
     "output_type": "execute_result"
    }
   ],
   "source": [
    "print(longitude)\n",
    "print(latitude)\n",
    "df[\"Longitude\"] = longitude\n",
    "df[\"Latitude\"] = latitude\n",
    "  \n",
    "df"
   ]
  },
  {
   "cell_type": "code",
   "execution_count": 8,
   "id": "38f408a7-6621-4923-846b-39f8d0b1e010",
   "metadata": {},
   "outputs": [],
   "source": [
    "route = [[0,2,1,0],[0,3,0]]"
   ]
  },
  {
   "cell_type": "code",
   "execution_count": 9,
   "id": "fa90d7a4-f40e-432a-af45-866af5cb5226",
   "metadata": {},
   "outputs": [
    {
     "name": "stdout",
     "output_type": "stream",
     "text": [
      "[[[30.6975638, 76.7148685], [30.7097775, 76.7045259], [30.6722089, 76.7180228], [30.6975638, 76.7148685]], [[30.6975638, 76.7148685], [30.702468, 76.69264812263654], [30.6975638, 76.7148685]]]\n"
     ]
    }
   ],
   "source": [
    "lat_long=[]\n",
    "for i in route:\n",
    "    l =[]\n",
    "    for j in i:\n",
    "        temp = []\n",
    "        temp.append(latitude[j])\n",
    "        temp.append(longitude[j])\n",
    "        l.append(temp)\n",
    "    lat_long.append(l)\n",
    "print(lat_long)\n",
    "        \n",
    "    \n",
    "        "
   ]
  },
  {
   "cell_type": "code",
   "execution_count": null,
   "id": "a5050b67-1585-4ead-940a-90b9978f2ab3",
   "metadata": {},
   "outputs": [],
   "source": []
  }
 ],
 "metadata": {
  "kernelspec": {
   "display_name": "Python 3 (ipykernel)",
   "language": "python",
   "name": "python3"
  },
  "language_info": {
   "codemirror_mode": {
    "name": "ipython",
    "version": 3
   },
   "file_extension": ".py",
   "mimetype": "text/x-python",
   "name": "python",
   "nbconvert_exporter": "python",
   "pygments_lexer": "ipython3",
   "version": "3.10.5"
  },
  "vscode": {
   "interpreter": {
    "hash": "26de051ba29f2982a8de78e945f0abaf191376122a1563185a90213a26c5da77"
   }
  }
 },
 "nbformat": 4,
 "nbformat_minor": 5
}
